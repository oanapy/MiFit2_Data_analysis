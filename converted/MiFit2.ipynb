{
 "cells": [
  {
   "cell_type": "code",
   "execution_count": 2,
   "metadata": {},
   "outputs": [],
   "source": [
    "from datascience import *\n",
    "import numpy as np\n",
    "import datetime\n",
    "import time\n",
    "import pandas as pd\n",
    "\n",
    "%matplotlib inline\n",
    "import matplotlib.pyplot as plots\n",
    "plots.style.use('fivethirtyeight')"
   ]
  },
  {
   "cell_type": "code",
   "execution_count": 3,
   "metadata": {},
   "outputs": [],
   "source": [
    "heart = Table().read_table('heart_rate.csv')"
   ]
  },
  {
   "cell_type": "code",
   "execution_count": 4,
   "metadata": {},
   "outputs": [
    {
     "data": {
      "text/html": [
       "<table border=\"1\" class=\"dataframe\">\n",
       "    <thead>\n",
       "        <tr>\n",
       "            <th>time</th> <th>hr</th>\n",
       "        </tr>\n",
       "    </thead>\n",
       "    <tbody>\n",
       "        <tr>\n",
       "            <td>1514061195</td> <td>93  </td>\n",
       "        </tr>\n",
       "        <tr>\n",
       "            <td>1514183465</td> <td>87  </td>\n",
       "        </tr>\n",
       "        <tr>\n",
       "            <td>1514277516</td> <td>98  </td>\n",
       "        </tr>\n",
       "        <tr>\n",
       "            <td>1514374448</td> <td>108 </td>\n",
       "        </tr>\n",
       "        <tr>\n",
       "            <td>1514378956</td> <td>69  </td>\n",
       "        </tr>\n",
       "    </tbody>\n",
       "</table>\n",
       "<p>... (157087 rows omitted)</p>"
      ],
      "text/plain": [
       "<IPython.core.display.HTML object>"
      ]
     },
     "metadata": {},
     "output_type": "display_data"
    }
   ],
   "source": [
    "heart.show(5)"
   ]
  },
  {
   "cell_type": "code",
   "execution_count": 5,
   "metadata": {},
   "outputs": [
    {
     "data": {
      "image/png": "[encoded data removed]",
      "text/plain": [
       "<Figure size 432x288 with 1 Axes>"
      ]
     },
     "metadata": {},
     "output_type": "display_data"
    }
   ],
   "source": [
    "heart.hist('hr')"
   ]
  },
  {
   "cell_type": "code",
   "execution_count": 6,
   "metadata": {},
   "outputs": [],
   "source": [
    "sleep = Table().read_table('sleep.csv')"
   ]
  },
  {
   "cell_type": "code",
   "execution_count": 7,
   "metadata": {},
   "outputs": [
    {
     "data": {
      "text/html": [
       "<table border=\"1\" class=\"dataframe\">\n",
       "    <thead>\n",
       "        <tr>\n",
       "            <th>id</th> <th>start_time</th> <th>end_time</th> <th>awake</th> <th>deep</th> <th>light</th> <th>stages</th> <th>deleted</th> <th>manually</th>\n",
       "        </tr>\n",
       "    </thead>\n",
       "    <tbody>\n",
       "        <tr>\n",
       "            <td>1   </td> <td>1514238900</td> <td>1514268360</td> <td>1    </td> <td>236 </td> <td>254  </td> <td>35L10D12L16D23L1A7L15D4L25D2L57D15L10D31L31D23L37D28L13D ...</td> <td>0      </td> <td>0       </td>\n",
       "        </tr>\n",
       "        <tr>\n",
       "            <td>2   </td> <td>1514315040</td> <td>1514317560</td> <td>0    </td> <td>32  </td> <td>10   </td> <td>10L32D                                                      </td> <td>0      </td> <td>0       </td>\n",
       "        </tr>\n",
       "        <tr>\n",
       "            <td>3   </td> <td>1514326380</td> <td>1514356200</td> <td>0    </td> <td>224 </td> <td>273  </td> <td>10L36D6L22D12L45D15L21D77L11D7L34D63L18D56L11D14L13D2L13D11L</td> <td>0      </td> <td>0       </td>\n",
       "        </tr>\n",
       "        <tr>\n",
       "            <td>4   </td> <td>1514414880</td> <td>1514443020</td> <td>1    </td> <td>176 </td> <td>292  </td> <td>27L41D19L50D59L1A7L22D22L10D32L11D45L21D9L11D60L10D12L      </td> <td>0      </td> <td>0       </td>\n",
       "        </tr>\n",
       "        <tr>\n",
       "            <td>5   </td> <td>1514500200</td> <td>1514529480</td> <td>0    </td> <td>233 </td> <td>255  </td> <td>10L20D2L23D2L48D11L29D2L37D44L31D19L11D12L11D21L12D14L11 ...</td> <td>0      </td> <td>0       </td>\n",
       "        </tr>\n",
       "    </tbody>\n",
       "</table>\n",
       "<p>... (285 rows omitted)</p>"
      ],
      "text/plain": [
       "<IPython.core.display.HTML object>"
      ]
     },
     "metadata": {},
     "output_type": "display_data"
    }
   ],
   "source": [
    "sleep.show(5)"
   ]
  },
  {
   "cell_type": "code",
   "execution_count": 8,
   "metadata": {},
   "outputs": [],
   "source": [
    "to_drop='stages'\n",
    "sleep_without_stages = sleep.drop(to_drop)"
   ]
  },
  {
   "cell_type": "code",
   "execution_count": 9,
   "metadata": {},
   "outputs": [
    {
     "data": {
      "text/html": [
       "<table border=\"1\" class=\"dataframe\">\n",
       "    <thead>\n",
       "        <tr>\n",
       "            <th>id</th> <th>start_time</th> <th>end_time</th> <th>awake</th> <th>deep</th> <th>light</th> <th>deleted</th> <th>manually</th>\n",
       "        </tr>\n",
       "    </thead>\n",
       "    <tbody>\n",
       "        <tr>\n",
       "            <td>1   </td> <td>1514238900</td> <td>1514268360</td> <td>1    </td> <td>236 </td> <td>254  </td> <td>0      </td> <td>0       </td>\n",
       "        </tr>\n",
       "        <tr>\n",
       "            <td>2   </td> <td>1514315040</td> <td>1514317560</td> <td>0    </td> <td>32  </td> <td>10   </td> <td>0      </td> <td>0       </td>\n",
       "        </tr>\n",
       "        <tr>\n",
       "            <td>3   </td> <td>1514326380</td> <td>1514356200</td> <td>0    </td> <td>224 </td> <td>273  </td> <td>0      </td> <td>0       </td>\n",
       "        </tr>\n",
       "        <tr>\n",
       "            <td>4   </td> <td>1514414880</td> <td>1514443020</td> <td>1    </td> <td>176 </td> <td>292  </td> <td>0      </td> <td>0       </td>\n",
       "        </tr>\n",
       "        <tr>\n",
       "            <td>5   </td> <td>1514500200</td> <td>1514529480</td> <td>0    </td> <td>233 </td> <td>255  </td> <td>0      </td> <td>0       </td>\n",
       "        </tr>\n",
       "    </tbody>\n",
       "</table>\n",
       "<p>... (285 rows omitted)</p>"
      ],
      "text/plain": [
       "<IPython.core.display.HTML object>"
      ]
     },
     "metadata": {},
     "output_type": "display_data"
    }
   ],
   "source": [
    "sleep_without_stages.show(5)"
   ]
  },
  {
   "cell_type": "code",
   "execution_count": 10,
   "metadata": {},
   "outputs": [
    {
     "data": {
      "image/png": "[encoded data removed]",
      "text/plain": [
       "<Figure size 360x360 with 1 Axes>"
      ]
     },
     "metadata": {},
     "output_type": "display_data"
    }
   ],
   "source": [
    "sleep_without_stages.scatter('deep', 'light')"
   ]
  },
  {
   "cell_type": "code",
   "execution_count": 11,
   "metadata": {},
   "outputs": [],
   "source": [
    "steps = Table().read_table('steps.csv')"
   ]
  },
  {
   "cell_type": "code",
   "execution_count": 12,
   "metadata": {},
   "outputs": [
    {
     "data": {
      "text/html": [
       "<table border=\"1\" class=\"dataframe\">\n",
       "    <thead>\n",
       "        <tr>\n",
       "            <th>time</th> <th>intensity</th> <th>steps</th> <th>category</th>\n",
       "        </tr>\n",
       "    </thead>\n",
       "    <tbody>\n",
       "        <tr>\n",
       "            <td>1514193360</td> <td>28       </td> <td>0    </td> <td>96      </td>\n",
       "        </tr>\n",
       "        <tr>\n",
       "            <td>1514193420</td> <td>20       </td> <td>0    </td> <td>80      </td>\n",
       "        </tr>\n",
       "        <tr>\n",
       "            <td>1514193480</td> <td>7        </td> <td>0    </td> <td>80      </td>\n",
       "        </tr>\n",
       "        <tr>\n",
       "            <td>1514193540</td> <td>15       </td> <td>0    </td> <td>80      </td>\n",
       "        </tr>\n",
       "        <tr>\n",
       "            <td>1514193600</td> <td>20       </td> <td>0    </td> <td>90      </td>\n",
       "        </tr>\n",
       "    </tbody>\n",
       "</table>\n",
       "<p>... (398697 rows omitted)</p>"
      ],
      "text/plain": [
       "<IPython.core.display.HTML object>"
      ]
     },
     "metadata": {},
     "output_type": "display_data"
    }
   ],
   "source": [
    "steps.show(5)"
   ]
  },
  {
   "cell_type": "code",
   "execution_count": 13,
   "metadata": {},
   "outputs": [
    {
     "data": {
      "image/png": "[encoded data removed]",
      "text/plain": [
       "<Figure size 360x360 with 1 Axes>"
      ]
     },
     "metadata": {},
     "output_type": "display_data"
    }
   ],
   "source": [
    "steps.scatter('time', 'steps')"
   ]
  },
  {
   "cell_type": "code",
   "execution_count": 32,
   "metadata": {},
   "outputs": [],
   "source": [
    "def change_time(epoch_time):\n",
    "    '''transforms epoch_time from the original db to human readable time'''\n",
    "    human_time = time.strftime(\"%a %d-%m-%Y %H:%M:%S\", time.gmtime(epoch_time)) #UTC time\n",
    "    #'Mon 25-12-2017 21:55:00'\n",
    "    return human_time\n",
    "#change_time(1514238900)\n",
    "\n",
    "def say_weekday(epoch_time):\n",
    "    '''transforms epoch_time from the original db to human readable day of the week'''\n",
    "    human_day = time.strftime(\"%a\", time.gmtime(epoch_time))\n",
    "    #'Mon'\n",
    "    return human_day\n",
    "#say_day(1514238900)\n",
    "\n",
    "def say_hour(epoch_time):\n",
    "    '''transforms epoch_time from the original db to human readable hour - UTC'''\n",
    "    human_hour = time.strftime(\"%H:%M:%S\", time.gmtime(epoch_time))\n",
    "    #'21:55:00'\n",
    "    return human_hour\n",
    "#say_hour(1514238900)\n",
    "\n",
    "def say_year(epoch_time):\n",
    "    '''transforms epoch_time from the original db to human readable year'''\n",
    "    human_year = time.strftime(\"%Y\", time.gmtime(epoch_time))\n",
    "    #'2017'\n",
    "    return int(human_year)\n",
    "#say_year(1514238900)\n",
    "\n",
    "def say_month(epoch_time):\n",
    "    '''transforms epoch_time from the original db to human readable number of the month'''\n",
    "    human_month = time.strftime(\"%m\", time.gmtime(epoch_time))\n",
    "    #'2017'\n",
    "    return int(human_month)\n",
    "#say_month(1514238900)\n",
    "\n",
    "def say_day_month(epoch_time):\n",
    "    '''transforms epoch_time from the original db to human readable day of the month'''\n",
    "    human_month = time.strftime(\"%d\", time.gmtime(epoch_time))\n",
    "    #'25'\n",
    "    return int(human_month)\n",
    "#say_day_month(1514238900)\n",
    "    \n",
    "    "
   ]
  },
  {
   "cell_type": "code",
   "execution_count": 33,
   "metadata": {},
   "outputs": [],
   "source": [
    "def say_weekday_table(table, label_time_col):\n",
    "    '''says the day from an epoch time for a specific column label in a table'''\n",
    "    temp_time_array = table.column(label_time_col)\n",
    "    days = []\n",
    "    for i in range(len(temp_time_array)):\n",
    "        d = say_weekday(int(temp_time_array[i]))\n",
    "        days.append(d)\n",
    "    return days\n",
    "\n",
    "def say_time_table(table, label_time_col):\n",
    "    '''says the time from an epoch time for a specific column label in a table'''\n",
    "    temp_time_array = table.column(label_time_col)\n",
    "    times = []\n",
    "    for i in range(len(temp_time_array)):\n",
    "        t = say_hour(int(temp_time_array[i]))\n",
    "        times.append(t)\n",
    "    return times\n",
    "\n",
    "def say_year_table(table, label_time_col):\n",
    "    '''says the year from an epoch time for a specific column label in a table'''\n",
    "    temp_time_array = table.column(label_time_col)\n",
    "    years = []\n",
    "    for i in range(len(temp_time_array)):\n",
    "        y = say_year(int(temp_time_array[i]))\n",
    "        years.append(y)\n",
    "    return years\n",
    "\n",
    "def say_month_table(table, label_time_col):\n",
    "    '''says the number of the month from an epoch time for a specific column label in a table'''\n",
    "    temp_time_array = table.column(label_time_col)\n",
    "    months = []\n",
    "    for i in range(len(temp_time_array)):\n",
    "        m = say_month(int(temp_time_array[i]))\n",
    "        if int(m)/10 < 1:\n",
    "            m = int(m) % 10\n",
    "        months.append(m)\n",
    "    return months\n",
    "\n",
    "def say_day_month_table(table, label_time_col):\n",
    "    '''says the day of the month from an epoch time for a specific column label in a table'''\n",
    "    temp_time_array = table.column(label_time_col)\n",
    "    d_ms = []\n",
    "    for i in range(len(temp_time_array)):\n",
    "        d_m = say_day_month(int(temp_time_array[i]))\n",
    "        if int(d_m)/10 < 1:\n",
    "            d_m = int(d_m) % 10\n",
    "        d_ms.append(d_m)\n",
    "    return d_ms\n"
   ]
  },
  {
   "cell_type": "code",
   "execution_count": 34,
   "metadata": {},
   "outputs": [
    {
     "data": {
      "text/html": [
       "<table border=\"1\" class=\"dataframe\">\n",
       "    <thead>\n",
       "        <tr>\n",
       "            <th>id</th> <th>start_time</th> <th>end_time</th> <th>awake</th> <th>deep</th> <th>light</th> <th>stages</th> <th>deleted</th> <th>manually</th> <th>start_time (UTC)</th> <th>end_time (UTC)</th> <th>total hours of sleep</th> <th>start_day</th> <th>end_day</th> <th>start day of the month</th> <th>end day of the month</th> <th>month</th> <th>year</th>\n",
       "        </tr>\n",
       "    </thead>\n",
       "    <tbody>\n",
       "        <tr>\n",
       "            <td>1   </td> <td>1514238900</td> <td>1514268360</td> <td>1    </td> <td>236 </td> <td>254  </td> <td>35L10D12L16D23L1A7L15D4L25D2L57D15L10D31L31D23L37D28L13D ...</td> <td>0      </td> <td>0       </td> <td>21:55:00        </td> <td>06:06:00      </td> <td>8.16667             </td> <td>Mon      </td> <td>Tue    </td> <td>25                    </td> <td>26                  </td> <td>12   </td> <td>2017</td>\n",
       "        </tr>\n",
       "        <tr>\n",
       "            <td>2   </td> <td>1514315040</td> <td>1514317560</td> <td>0    </td> <td>32  </td> <td>10   </td> <td>10L32D                                                      </td> <td>0      </td> <td>0       </td> <td>19:04:00        </td> <td>19:46:00      </td> <td>0.7                 </td> <td>Tue      </td> <td>Tue    </td> <td>26                    </td> <td>26                  </td> <td>12   </td> <td>2017</td>\n",
       "        </tr>\n",
       "        <tr>\n",
       "            <td>3   </td> <td>1514326380</td> <td>1514356200</td> <td>0    </td> <td>224 </td> <td>273  </td> <td>10L36D6L22D12L45D15L21D77L11D7L34D63L18D56L11D14L13D2L13D11L</td> <td>0      </td> <td>0       </td> <td>22:13:00        </td> <td>06:30:00      </td> <td>8.28333             </td> <td>Tue      </td> <td>Wed    </td> <td>26                    </td> <td>27                  </td> <td>12   </td> <td>2017</td>\n",
       "        </tr>\n",
       "        <tr>\n",
       "            <td>4   </td> <td>1514414880</td> <td>1514443020</td> <td>1    </td> <td>176 </td> <td>292  </td> <td>27L41D19L50D59L1A7L22D22L10D32L11D45L21D9L11D60L10D12L      </td> <td>0      </td> <td>0       </td> <td>22:48:00        </td> <td>06:37:00      </td> <td>7.8                 </td> <td>Wed      </td> <td>Thu    </td> <td>27                    </td> <td>28                  </td> <td>12   </td> <td>2017</td>\n",
       "        </tr>\n",
       "        <tr>\n",
       "            <td>5   </td> <td>1514500200</td> <td>1514529480</td> <td>0    </td> <td>233 </td> <td>255  </td> <td>10L20D2L23D2L48D11L29D2L37D44L31D19L11D12L11D21L12D14L11 ...</td> <td>0      </td> <td>0       </td> <td>22:30:00        </td> <td>06:38:00      </td> <td>8.13333             </td> <td>Thu      </td> <td>Fri    </td> <td>28                    </td> <td>29                  </td> <td>12   </td> <td>2017</td>\n",
       "        </tr>\n",
       "    </tbody>\n",
       "</table>\n",
       "<p>... (285 rows omitted)</p>"
      ],
      "text/plain": [
       "<IPython.core.display.HTML object>"
      ]
     },
     "metadata": {},
     "output_type": "display_data"
    },
    {
     "data": {
      "text/plain": [
       "Row(id=290, start_time=1538086320, end_time=1538114280, awake=0, deep=224, light=242, stages='23L38D7L20D11L20D4L17D14L47D7L27D24L11D10L18D9L14D59L12D74L', deleted=0, manually=0, start_time (UTC)='22:12:00', end_time (UTC)='05:58:00', total hours of sleep=7.766666666666667, start_day='Thu', end_day='Fri', start day of the month=27, end day of the month=28, month=9, year=2018)"
      ]
     },
     "execution_count": 34,
     "metadata": {},
     "output_type": "execute_result"
    }
   ],
   "source": [
    "#appends the original table with day, time and year in human time\n",
    "heart = heart.with_columns(\n",
    "    'time (UTC)', say_time_table(heart, 'time'),\n",
    "    'day', say_weekday_table(heart, 'time'),\n",
    "    'day of the month', say_day_month_table(heart, 'time'),\n",
    "    'month', say_month_table(heart, 'time'),\n",
    "    'year', say_year_table(heart, 'time')\n",
    ")\n",
    "#heart.show(5)\n",
    "#heart.rows[157087]\n",
    "\n",
    "steps = steps.with_columns(\n",
    "    'time (UTC)', say_time_table(steps, 'time'),\n",
    "    'day', say_weekday_table(steps, 'time'),\n",
    "    'day of the month', say_day_month_table(steps, 'time'),\n",
    "    'month', say_month_table(steps, 'time'),\n",
    "    'year', say_year_table(steps, 'time')\n",
    ")\n",
    "\n",
    "#steps.show(5)\n",
    "#steps.rows[398697]\n",
    "\n",
    "sleep = sleep.with_columns(\n",
    "    'start_time (UTC)', say_time_table(sleep, 'start_time'),\n",
    "    'end_time (UTC)', say_time_table(sleep, 'end_time'),\n",
    "    'total hours of sleep', (sleep.column('deep') + sleep.column('light'))/60,\n",
    "    'start_day', say_weekday_table(sleep, 'start_time'),\n",
    "    'end_day', say_weekday_table(sleep, 'end_time'),\n",
    "    'start day of the month', say_day_month_table(sleep, 'start_time'),\n",
    "    'end day of the month', say_day_month_table(sleep, 'end_time'),\n",
    "    'month', say_month_table(sleep, 'start_time'),\n",
    "    'year', say_year_table(sleep, 'start_time')\n",
    ")\n",
    "\n",
    "#sleep.show(5)\n",
    "#sleep.rows[289]\n",
    "     "
   ]
  },
  {
   "cell_type": "code",
   "execution_count": null,
   "metadata": {},
   "outputs": [
    {
     "data": {
      "text/html": [
       "<table border=\"1\" class=\"dataframe\">\n",
       "    <thead>\n",
       "        <tr>\n",
       "            <th>hr</th> <th>day</th>\n",
       "        </tr>\n",
       "    </thead>\n",
       "    <tbody>\n",
       "        <tr>\n",
       "            <td>93  </td> <td>Sat </td>\n",
       "        </tr>\n",
       "        <tr>\n",
       "            <td>87  </td> <td>Mon </td>\n",
       "        </tr>\n",
       "        <tr>\n",
       "            <td>98  </td> <td>Tue </td>\n",
       "        </tr>\n",
       "        <tr>\n",
       "            <td>108 </td> <td>Wed </td>\n",
       "        </tr>\n",
       "        <tr>\n",
       "            <td>69  </td> <td>Wed </td>\n",
       "        </tr>\n",
       "    </tbody>\n",
       "</table>\n",
       "<p>... (157087 rows omitted)</p>"
      ],
      "text/plain": [
       "<IPython.core.display.HTML object>"
      ]
     },
     "metadata": {},
     "output_type": "display_data"
    },
    {
     "data": {
      "text/html": [
       "<table border=\"1\" class=\"dataframe\">\n",
       "    <thead>\n",
       "        <tr>\n",
       "            <th>hr</th> <th>time</th>\n",
       "        </tr>\n",
       "    </thead>\n",
       "    <tbody>\n",
       "        <tr>\n",
       "            <td>93  </td> <td>20:33:15</td>\n",
       "        </tr>\n",
       "        <tr>\n",
       "            <td>87  </td> <td>06:31:05</td>\n",
       "        </tr>\n",
       "        <tr>\n",
       "            <td>98  </td> <td>08:38:36</td>\n",
       "        </tr>\n",
       "        <tr>\n",
       "            <td>108 </td> <td>11:34:08</td>\n",
       "        </tr>\n",
       "        <tr>\n",
       "            <td>69  </td> <td>12:49:16</td>\n",
       "        </tr>\n",
       "    </tbody>\n",
       "</table>\n",
       "<p>... (157087 rows omitted)</p>"
      ],
      "text/plain": [
       "<IPython.core.display.HTML object>"
      ]
     },
     "metadata": {},
     "output_type": "display_data"
    }
   ],
   "source": [
    "heart_day = Table().with_columns(\"hr\", heart.column('hr'), \"day\", heart.column(\"day\"))\n",
    "heart_day.show(5)\n",
    "heart_day.scatter('day')\n",
    "\n",
    "heart_time = Table().with_columns(\"hr\", heart.column('hr'), \"time\", heart.column(\"time (UTC)\"))\n",
    "heart_time.show(5)\n",
    "heart_time.scatter('time')"
   ]
  },
  {
   "cell_type": "code",
   "execution_count": null,
   "metadata": {},
   "outputs": [],
   "source": [
    "heart_time.scatter()"
   ]
  },
  {
   "cell_type": "code",
   "execution_count": null,
   "metadata": {},
   "outputs": [],
   "source": []
  }
 ],
 "metadata": {
  "kernelspec": {
   "display_name": "Python 3",
   "language": "python",
   "name": "python3"
  },
  "language_info": {
   "codemirror_mode": {
    "name": "ipython",
    "version": 3
   },
   "file_extension": ".py",
   "mimetype": "text/x-python",
   "name": "python",
   "nbconvert_exporter": "python",
   "pygments_lexer": "ipython3",
   "version": "3.6.5"
  }
 },
 "nbformat": 4,
 "nbformat_minor": 2
}
